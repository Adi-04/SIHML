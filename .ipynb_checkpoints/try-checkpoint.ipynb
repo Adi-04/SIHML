{
 "cells": [
  {
   "cell_type": "code",
   "execution_count": 4,
   "metadata": {},
   "outputs": [],
   "source": [
    "import pickle\n",
    "from sklearn.compose import ColumnTransformer\n",
    "from sklearn.preprocessing import MinMaxScaler\n",
    "from sklearn.pipeline import Pipeline\n",
    "from sklearn.base import BaseEstimator, TransformerMixin\n",
    "from sklearn.preprocessing import FunctionTransformer\n",
    "import pandas as pd\n",
    "\n",
    "# Define the Custom Feature Engineering class\n",
    "class CustomFeatureEngineering(BaseEstimator, TransformerMixin):\n",
    "    def fit(self, X, y=None):\n",
    "        self.transplant_categories_ = ['Kidney', 'heart', 'heart-kidney', 'heart-lungs', 'lung', 'lung-kidney', 'nothing']\n",
    "        return self\n",
    "    \n",
    "    def transform(self, X):\n",
    "        X_encoded = X.copy()\n",
    "        \n",
    "        # Ensure correct mapping\n",
    "        X_encoded['Gender'] = X_encoded['Gender'].map({'Female': -1, 'Male': 1})\n",
    "        \n",
    "        # Feature engineering\n",
    "        X_encoded['Heart_Condition_Severity_Index'] = (\n",
    "            X_encoded['heart Attack'] * 100 +\n",
    "            X_encoded['Heart Valve'] * 10 +\n",
    "            X_encoded['Heart Defect at birth'] * 50 +\n",
    "            X_encoded['Cardiomyopathy'] * 75\n",
    "        )\n",
    "        \n",
    "        X_encoded['Lung_Condition_Severity_Index'] = (\n",
    "            X_encoded['copd(lung_Disease)'] * 60 +\n",
    "            X_encoded['Severe cystic fibrosis'] * 80\n",
    "        )\n",
    "        \n",
    "        X_encoded['Kidney_Condition_Severity_Index'] = (\n",
    "            X_encoded['kidney stones'] * 20 +\n",
    "            X_encoded['Repeated urinary infections'] * 30 +\n",
    "            X_encoded['Urinary Tract Infection'] * 40\n",
    "        )\n",
    "        \n",
    "        X_encoded['Chronic_Condition_Severity_Index'] = (\n",
    "            X_encoded['Heart_Condition_Severity_Index'] +\n",
    "            X_encoded['Lung_Condition_Severity_Index'] +\n",
    "            X_encoded['Kidney_Condition_Severity_Index'] +\n",
    "            X_encoded['Diabities'] * 50\n",
    "        )\n",
    "        \n",
    "        X_encoded['Age_Heart_Interaction'] = X_encoded['Age'] * X_encoded['Heart_Condition_Severity_Index']\n",
    "        X_encoded['Age_Lung_Interaction'] = X_encoded['Age'] * X_encoded['Lung_Condition_Severity_Index']\n",
    "        X_encoded['Age_Kidney_Interaction'] = X_encoded['Age'] * X_encoded['Kidney_Condition_Severity_Index']\n",
    "        X_encoded['Age_Chronic_Interaction'] = X_encoded['Age'] * X_encoded['Chronic_Condition_Severity_Index']\n",
    "        \n",
    "        X_encoded['Gender_Heart_Interaction'] = X_encoded['Gender'] * X_encoded['Heart_Condition_Severity_Index']\n",
    "        X_encoded['Gender_Kidney_Interaction'] = X_encoded['Gender'] * X_encoded['Kidney_Condition_Severity_Index']\n",
    "        X_encoded['Gender_Lung_Interaction'] = X_encoded['Gender'] * X_encoded['Lung_Condition_Severity_Index']\n",
    "        \n",
    "        symptom_columns = ['heart Attack', 'Heart Valve', 'Heart Defect at birth', 'Cardiomyopathy', \n",
    "                           'Severe cystic fibrosis', 'copd(lung_Disease)', 'Repeated urinary infections', \n",
    "                           'Diabities', 'kidney stones', 'Urinary Tract Infection']\n",
    "        X_encoded['Symptom_Count'] = X_encoded[symptom_columns].sum(axis=1)\n",
    "        \n",
    "        # One-hot encoding of 'Transplant' column while preserving NaN values\n",
    "        X_encoded[\"Transplant\"] = X_encoded[\"Transplant\"].fillna(\"nothing\")\n",
    "        one_hot_encoded = pd.get_dummies(X_encoded['Transplant'])\n",
    "        one_hot_encoded = one_hot_encoded.astype(int)\n",
    "        \n",
    "        # Ensure all predefined columns are present, filling missing ones with 0\n",
    "        for category in self.transplant_categories_:\n",
    "            if category not in one_hot_encoded.columns:\n",
    "                one_hot_encoded[category] = 0\n",
    "        \n",
    "        # Merging the one-hot encoded columns back into the dataframe\n",
    "        X_encoded = pd.concat([X_encoded, one_hot_encoded], axis=1)\n",
    "        X_encoded = X_encoded.drop(columns='Transplant')\n",
    "        \n",
    "        return X_encoded\n",
    "\n",
    "# Define the columns for scaling\n",
    "scale_columns = ['Age', 'Heart_Condition_Severity_Index', 'Lung_Condition_Severity_Index',\n",
    "                 'Kidney_Condition_Severity_Index', 'Chronic_Condition_Severity_Index',\n",
    "                 'Age_Heart_Interaction', 'Age_Lung_Interaction', 'Age_Kidney_Interaction',\n",
    "                 'Age_Chronic_Interaction', 'Gender_Heart_Interaction', 'Gender_Kidney_Interaction',\n",
    "                 'Gender_Lung_Interaction', 'Symptom_Count']\n",
    "\n",
    "non_scaled_columns = ['Gender', 'Kidney', 'heart', 'heart-kidney', 'heart-lungs', 'lung', 'lung-kidney', 'nothing']\n",
    "\n",
    "# Drop columns only if they exist\n",
    "def drop_columns_if_exist(X):\n",
    "    # Convert column names to strings to avoid the TypeError\n",
    "    df = pd.DataFrame(X, columns=[str(col) for col in (scale_columns + non_scaled_columns)])\n",
    "    \n",
    "    columns_to_drop = ['heart Attack', 'Heart Valve', 'Heart Defect at birth', 'Cardiomyopathy', \n",
    "                       'Severe cystic fibrosis', 'copd(lung_Disease)', 'Repeated urinary infections', \n",
    "                       'Diabities', 'kidney stones', 'Urinary Tract Infection']\n",
    "    \n",
    "    # Drop columns only if they exist in the dataframe\n",
    "    return df.drop(columns=[col for col in columns_to_drop if col in df.columns])"
   ]
  },
  {
   "cell_type": "code",
   "execution_count": 5,
   "metadata": {},
   "outputs": [],
   "source": [
    "import pickle\n",
    "with open('D:\\LifeDevice_SIH\\ML_BACKEND\\model\\pipeline.pkl', 'rb') as f:\n",
    "    loaded_pipeline = pickle.load(f)"
   ]
  },
  {
   "cell_type": "code",
   "execution_count": 7,
   "metadata": {},
   "outputs": [],
   "source": [
    "df = pd.read_csv(\"D:\\LifeDevice_SIH\\ML_BACKEND\\model\\\\test_data.csv\")"
   ]
  },
  {
   "cell_type": "code",
   "execution_count": 9,
   "metadata": {},
   "outputs": [],
   "source": [
    "df = df.drop(\"Unnamed: 0\", axis=1)"
   ]
  },
  {
   "cell_type": "code",
   "execution_count": 11,
   "metadata": {},
   "outputs": [],
   "source": [
    "probs = loaded_pipeline.predict_proba(df)"
   ]
  },
  {
   "cell_type": "code",
   "execution_count": 12,
   "metadata": {},
   "outputs": [
    {
     "data": {
      "text/plain": [
       "array([[0.07, 0.93],\n",
       "       [0.  , 1.  ]])"
      ]
     },
     "execution_count": 12,
     "metadata": {},
     "output_type": "execute_result"
    }
   ],
   "source": [
    "probs"
   ]
  },
  {
   "cell_type": "code",
   "execution_count": 16,
   "metadata": {},
   "outputs": [],
   "source": [
    "from fastapi import FastAPI\n",
    "import os\n",
    "import uvicorn\n",
    "from datetime import datetime\n",
    "import collections"
   ]
  },
  {
   "cell_type": "code",
   "execution_count": 14,
   "metadata": {},
   "outputs": [],
   "source": [
    "app = FastAPI()"
   ]
  },
  {
   "cell_type": "code",
   "execution_count": 17,
   "metadata": {},
   "outputs": [],
   "source": [
    "@app.post(\"/priority/\")\n",
    "async def priority(data: dict):\n",
    "    \n",
    "    \n",
    "    def calcAge(obj):\n",
    "        dob = obj[\"dateOfBirth\"]\n",
    "        today = datetime.today()\n",
    "        age = today.year - int(dob.split('-')[0])\n",
    "        return age\n",
    "\n",
    "    df = collections.defaultdict(list)\n",
    "\n",
    "    for object in data.values():\n",
    "        df[\"Age\"].append(calcAge(object))\n",
    "        df[\"Gender\"].append(object[\"gender\"])\n",
    "        df['heart Attack'].append(object[\"conditions\"][\"heartAttack\"])\n",
    "        df['Heart Valve'].append(object[\"collections\"][\"heartValve\"])\n",
    "        df['Heart Defect at birth'].append(object[\"collections\"][\"heartDefectAtBirth\"])\n",
    "        df['Cardiomyopathy'].append(object[\"collections\"][\"cardiomyopathy\"])\n",
    "        df['Severe cystic fibrosis'].append(object[\"collections\"][\"severeCysticFibrosis\"])\n",
    "        df['copd(lung_Disease)'].append(object[\"collections\"][\"copd\"])\n",
    "        df['Repeated urinary infections'].append(object[\"collections\"][\"repeatedUrinaryInfections\"])\n",
    "        df['Diabities'].append(object[\"collections\"][\"diabities\"])\n",
    "        df['kidney stones'].append(object[\"collections\"][\"kidneyStones\"])\n",
    "        df['Urinary Tract Infection'].append(object[\"collections\"][\"urinaryTractInfection\"])\n",
    "        df['Transplant'].append(object[\"organNeeded\"])\n",
    "    \n",
    "    df = pd.DataFrame(data=df)\n",
    "    \n",
    "    \n",
    "    prediction_probs = [x[1] for x in loaded_pipeline.predict_proba(df)]\n",
    "    emails = [x[\"emailAddress\"] for x in data.values()]\n",
    "    \n",
    "    final_list = list(zip(emails, prediction_probs))\n",
    "\n",
    "    # Return the prediction result\n",
    "    return final_list"
   ]
  },
  {
   "cell_type": "code",
   "execution_count": null,
   "metadata": {},
   "outputs": [],
   "source": []
  }
 ],
 "metadata": {
  "kernelspec": {
   "display_name": "base",
   "language": "python",
   "name": "python3"
  },
  "language_info": {
   "codemirror_mode": {
    "name": "ipython",
    "version": 3
   },
   "file_extension": ".py",
   "mimetype": "text/x-python",
   "name": "python",
   "nbconvert_exporter": "python",
   "pygments_lexer": "ipython3",
   "version": "3.11.5"
  }
 },
 "nbformat": 4,
 "nbformat_minor": 2
}
